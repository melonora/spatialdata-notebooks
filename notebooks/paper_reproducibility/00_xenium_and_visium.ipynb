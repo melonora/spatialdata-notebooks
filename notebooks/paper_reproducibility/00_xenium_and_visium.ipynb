{
 "cells": [
  {
   "attachments": {},
   "cell_type": "markdown",
   "id": "dc62a3d8-c542-4cf6-acf9-1c66fd3f0c33",
   "metadata": {},
   "source": [
    "# Integration and joint analysis of Xenium and Visium data"
   ]
  },
  {
   "attachments": {},
   "cell_type": "markdown",
   "id": "723984d4-3750-4bf5-911a-dceca8266e8e",
   "metadata": {},
   "source": [
    "Authors: Elyas Heidari, Luca Marconato"
   ]
  },
  {
   "cell_type": "code",
   "execution_count": 1,
   "id": "15aab39c-55cf-4fac-809e-69e7e091e52d",
   "metadata": {
    "tags": []
   },
   "outputs": [],
   "source": [
    "%load_ext autoreload\n",
    "%autoreload 2"
   ]
  },
  {
   "cell_type": "code",
   "execution_count": 2,
   "id": "dc57c08e-08bc-49f2-a332-14230d042deb",
   "metadata": {},
   "outputs": [
    {
     "data": {
      "text/html": [
       "\n",
       "                <script type=\"application/javascript\" id=\"jupyter_black\">\n",
       "                (function() {\n",
       "                    if (window.IPython === undefined) {\n",
       "                        return\n",
       "                    }\n",
       "                    var msg = \"WARNING: it looks like you might have loaded \" +\n",
       "                        \"jupyter_black in a non-lab notebook with \" +\n",
       "                        \"`is_lab=True`. Please double check, and if \" +\n",
       "                        \"loading with `%load_ext` please review the README!\"\n",
       "                    console.log(msg)\n",
       "                    alert(msg)\n",
       "                })()\n",
       "                </script>\n",
       "                "
      ],
      "text/plain": [
       "<IPython.core.display.HTML object>"
      ]
     },
     "metadata": {},
     "output_type": "display_data"
    }
   ],
   "source": [
    "%load_ext jupyter_black"
   ]
  },
  {
   "attachments": {},
   "cell_type": "markdown",
   "id": "7294b2a5-e5ce-4f90-9c95-f63b61b0bb30",
   "metadata": {},
   "source": [
    "## Setup\n",
    "### Import libraries"
   ]
  },
  {
   "cell_type": "code",
   "execution_count": 3,
   "id": "bae38dbc-c0ea-460b-8536-12e3ed27b400",
   "metadata": {},
   "outputs": [],
   "source": [
    "import os\n",
    "import warnings\n",
    "\n",
    "os.environ[\"USE_PYGEOS\"] = \"0\"\n",
    "warnings.filterwarnings(\"ignore\")"
   ]
  },
  {
   "cell_type": "code",
   "execution_count": 4,
   "id": "18718fae-5230-4346-af3e-627e56ab3ad2",
   "metadata": {
    "tags": []
   },
   "outputs": [],
   "source": [
    "import shutil\n",
    "\n",
    "import anndata\n",
    "import geopandas\n",
    "import napari\n",
    "import numpy as np\n",
    "import pandas as pd\n",
    "import scanpy as sc\n",
    "import spatialdata as sd\n",
    "import squidpy as sq\n",
    "\n",
    "# from napari_spatialdata import Interactive\n",
    "from scipy import sparse\n",
    "from shapely.geometry import Polygon\n",
    "from spatialdata import aggregate\n",
    "from spatialdata.transformations import (\n",
    "    Affine,\n",
    "    Identity,\n",
    "    Sequence,\n",
    "    align_elements_using_landmarks,\n",
    "    get_transformation,\n",
    "    set_transformation,\n",
    ")"
   ]
  },
  {
   "attachments": {},
   "cell_type": "markdown",
   "id": "ec13509b-3181-4ca5-a12f-dc69ff269120",
   "metadata": {},
   "source": [
    "### Data paths"
   ]
  },
  {
   "attachments": {},
   "cell_type": "markdown",
   "id": "d11101ee-0c71-413a-bb5f-41bf2bc58be2",
   "metadata": {},
   "source": [
    "#### Setting up the root data folders"
   ]
  },
  {
   "cell_type": "code",
   "execution_count": 5,
   "id": "9acac8f8-0593-42c0-91e4-5367d0a9286a",
   "metadata": {
    "tags": []
   },
   "outputs": [
    {
     "name": "stdout",
     "output_type": "stream",
     "text": [
      "current working directory: /data/l989o/dependencies/spatialdata-notebooks/notebooks/paper_reproducibility\n"
     ]
    }
   ],
   "source": [
    "print(\"current working directory:\", os.getcwd())\n",
    "SPATIALDATA_SANDBOX_PATH = \"spatialdata-sandbox\"\n",
    "assert os.path.isdir(\n",
    "    SPATIALDATA_SANDBOX_PATH\n",
    "), f\"{SPATIALDATA_SANDBOX_PATH} not found, please use symlinks to make it available\"\n",
    "GENERATED_DATA_PATH = os.path.join(SPATIALDATA_SANDBOX_PATH, \"generated_data/xenium_visium_integration\")\n",
    "os.makedirs(GENERATED_DATA_PATH, exist_ok=True)"
   ]
  },
  {
   "attachments": {},
   "cell_type": "markdown",
   "id": "f6e3f31d-cea3-4d2f-8aaa-e11f22e6f911",
   "metadata": {},
   "source": [
    "#### Data to be downloaded"
   ]
  },
  {
   "attachments": {},
   "cell_type": "markdown",
   "id": "14faa312-1c8b-4f2c-8fe6-913808f7b901",
   "metadata": {},
   "source": [
    "scRNA-Seq reference atlas from [Wu et al., Nat. Genet 2021](https://www.nature.com/articles/s41588-021-00911-1). It can be [downloaded from here](https://s3.embl.de/spatialdata/spatialdata-sandbox/generated_data/xenium_visium_integration/BC_atlas_xe.h5ad)."
   ]
  },
  {
   "cell_type": "code",
   "execution_count": 6,
   "id": "72e33840-8421-4355-bd5c-6646beb5cea9",
   "metadata": {
    "tags": []
   },
   "outputs": [],
   "source": [
    "BC_SC_ATLAS_PATH = os.path.join(GENERATED_DATA_PATH, \"BC_atlas_xe.h5ad\")"
   ]
  },
  {
   "attachments": {},
   "cell_type": "markdown",
   "id": "eb115a2f-751a-4b8d-bcec-e52d40593d0c",
   "metadata": {},
   "source": [
    "Clonal information derived from the Visium data, [can be downloaded from here](https://s3.embl.de/spatialdata/spatialdata-sandbox/generated_data/xenium_visium_integration/visium_copyKat.h5ad)."
   ]
  },
  {
   "cell_type": "code",
   "execution_count": 7,
   "id": "5047d4cb-0fe4-48ec-abe4-7e34fc66df59",
   "metadata": {
    "tags": []
   },
   "outputs": [],
   "source": [
    "VISIUM_CLONAL_PATH = os.path.join(GENERATED_DATA_PATH, \"visium_copyKat.h5ad\")"
   ]
  },
  {
   "attachments": {},
   "cell_type": "markdown",
   "id": "95a35110-3a1a-4c58-b848-8deac717ebc9",
   "metadata": {},
   "source": [
    "Zarr file with annotated landmark locations and a ROI polygon, drawn with napari-spatialdata and saved into a SpatialData object, [can be downloaded from here](https://s3.embl.de/spatialdata/spatialdata-sandbox/generated_data/xenium_visium_integration/sandbox.zarr.zip)."
   ]
  },
  {
   "cell_type": "code",
   "execution_count": 8,
   "id": "f4c9ad41-5f8b-4ed6-91d5-2490ba78c2f9",
   "metadata": {
    "tags": []
   },
   "outputs": [],
   "source": [
    "LANDMARKS_SDATA_PATH = os.path.join(GENERATED_DATA_PATH, \"sandbox.zarr\")"
   ]
  },
  {
   "attachments": {},
   "cell_type": "markdown",
   "id": "18247140-7021-45c6-b915-c1c548c4adea",
   "metadata": {},
   "source": [
    "#### Data converted to Zarr with scripts from `spatialdata-sandbox` (can also be downloaded)"
   ]
  },
  {
   "attachments": {},
   "cell_type": "markdown",
   "id": "a621de65-bc15-44e4-82c0-779f87567e43",
   "metadata": {},
   "source": [
    "To get this data:\n",
    "1. run spatialdata-sandbox/xenium_rep1_io/download.py;\n",
    "2. run spatialdata-sandbox/xenium_rep1_io/to_zarr.py to create the zarr files.\n",
    "Alternatively, it [can be downloaded from here](https://s3.embl.de/spatialdata/spatialdata-sandbox/xenium_rep1_io.zip)."
   ]
  },
  {
   "cell_type": "code",
   "execution_count": 9,
   "id": "cfef7b61-c627-43c3-901d-96ecf6d3c518",
   "metadata": {
    "tags": []
   },
   "outputs": [],
   "source": [
    "XE_REP1_PATH = os.path.join(SPATIALDATA_SANDBOX_PATH, \"xenium_rep1_io/data.zarr\")"
   ]
  },
  {
   "attachments": {},
   "cell_type": "markdown",
   "id": "6be27012-647c-4920-9063-a6dbc84280ef",
   "metadata": {},
   "source": [
    "To get this data:\n",
    "1. run spatialdata-sandbox/xenium_rep2_io/download.py;\n",
    "2. run spatialdata-sandbox/xenium_rep2_io/to_zarr.py to create the zarr files.\n",
    "Alternatively, it [can be downloaded from here](https://s3.embl.de/spatialdata/spatialdata-sandbox/xenium_rep2_io.zip)."
   ]
  },
  {
   "cell_type": "code",
   "execution_count": 10,
   "id": "2953c562-6709-400b-927a-175b53901771",
   "metadata": {
    "tags": []
   },
   "outputs": [],
   "source": [
    "XE_REP2_PATH = os.path.join(SPATIALDATA_SANDBOX_PATH, \"xenium_rep2_io/data.zarr\")"
   ]
  },
  {
   "attachments": {},
   "cell_type": "markdown",
   "id": "81858794-6837-47cf-b226-b221150fc829",
   "metadata": {
    "tags": []
   },
   "source": [
    "To get this data:\n",
    "1. run spatialdata-sandbox/visium_associated_xenium_io/download.py\n",
    "2. run spatialdata-sandbox/visium_associated_xenium_io/to_zarr.py to create the zarr files\n",
    "Alternatively, it [can be downloaded from here](https://s3.embl.de/spatialdata/spatialdata-sandbox/visium_associated_xenium_io.zip)."
   ]
  },
  {
   "cell_type": "code",
   "execution_count": 11,
   "id": "44d9d918-9a81-46c9-89c5-20db7ced2275",
   "metadata": {
    "tags": []
   },
   "outputs": [],
   "source": [
    "VISIUM_PATH = os.path.join(SPATIALDATA_SANDBOX_PATH, \"visium_associated_xenium_io/data.zarr\")"
   ]
  },
  {
   "attachments": {},
   "cell_type": "markdown",
   "id": "9fee409f-48cc-4941-9b0c-56ef2c3bcdf7",
   "metadata": {},
   "source": [
    "#### Checking that all the data paths are available."
   ]
  },
  {
   "cell_type": "code",
   "execution_count": 12,
   "id": "f7477616-7a76-4253-83d4-f7f1dbdc0f79",
   "metadata": {
    "tags": []
   },
   "outputs": [],
   "source": [
    "paths = [\n",
    "    BC_SC_ATLAS_PATH,\n",
    "    VISIUM_CLONAL_PATH,\n",
    "    XE_REP1_PATH,\n",
    "    XE_REP2_PATH,\n",
    "    VISIUM_PATH,\n",
    "    LANDMARKS_SDATA_PATH,\n",
    "]\n",
    "for path in paths:\n",
    "    assert os.path.exists(path), f\"{path} not found\""
   ]
  },
  {
   "attachments": {},
   "cell_type": "markdown",
   "id": "780d4b35-89fa-4c64-acb3-26986d81737e",
   "metadata": {
    "tags": []
   },
   "source": [
    "#### Data that will be generated by this notebook\n",
    "\n",
    "The notebook will update in-place some of the root files above, and will also create the following Zarr files"
   ]
  },
  {
   "cell_type": "code",
   "execution_count": 13,
   "id": "d371cb73-2620-4791-ab5f-b1488a31ba27",
   "metadata": {
    "tags": []
   },
   "outputs": [],
   "source": [
    "# output paths for xenium_rep1, xenium_rep2 and visium data, after subsetting to the common area and being transformed\n",
    "XE_REP1_ROI_PATH = os.path.join(GENERATED_DATA_PATH, \"xe_rep1_roi.zarr\")\n",
    "XE_REP2_ROI_PATH = os.path.join(GENERATED_DATA_PATH, \"xe_rep2_roi.zarr\")\n",
    "VISIUM_ROI_PATH = os.path.join(GENERATED_DATA_PATH, \"visium_roi.zarr\")"
   ]
  },
  {
   "attachments": {},
   "cell_type": "markdown",
   "id": "cc7f626a-1c1a-4e35-912c-6c05a0b6057c",
   "metadata": {},
   "source": [
    "### Loading the data"
   ]
  },
  {
   "cell_type": "code",
   "execution_count": 14,
   "id": "62e23f90-46ce-4833-8dd2-34373d94497b",
   "metadata": {
    "tags": []
   },
   "outputs": [],
   "source": [
    "bc_sc_atlas_adata = sc.read(BC_SC_ATLAS_PATH)\n",
    "bc_sc_atlas_adata.obs[\"dataset\"] = \"atlas\"\n",
    "\n",
    "xe_rep1_sdata = sd.read_zarr(XE_REP1_PATH)\n",
    "xe_rep1_adata = xe_rep1_sdata.table\n",
    "xe_rep1_adata.obs[\"dataset\"] = \"xe_rep1\"\n",
    "\n",
    "xe_rep2_sdata = sd.read_zarr(XE_REP2_PATH)\n",
    "xe_rep2_adata = xe_rep2_sdata.table\n",
    "xe_rep2_adata.obs[\"dataset\"] = \"xe_rep2\"\n",
    "\n",
    "visium_sdata = sd.read_zarr(VISIUM_PATH)\n",
    "visium_adata = visium_sdata.table\n",
    "visium_adata.obs[\"dataset\"] = \"visium\"\n",
    "\n",
    "landmarks_sdata = sd.read_zarr(LANDMARKS_SDATA_PATH)\n",
    "clonal_adata = sc.read(VISIUM_CLONAL_PATH)"
   ]
  },
  {
   "cell_type": "code",
   "execution_count": 15,
   "id": "d27c3f67-b9e6-40cb-91e2-583cfe2b5a23",
   "metadata": {
    "tags": []
   },
   "outputs": [
    {
     "data": {
      "text/plain": [
       "SpatialData object with:\n",
       "└── Shapes\n",
       "      ├── 'box': GeoDataFrame shape: (1, 1) (2D shapes)\n",
       "      ├── 'rois': GeoDataFrame shape: (4, 1) (2D shapes)\n",
       "      ├── 'visium_lm': GeoDataFrame shape: (3, 2) (2D shapes)\n",
       "      ├── 'xe_rep1_lm': GeoDataFrame shape: (3, 2) (2D shapes)\n",
       "      └── 'xe_rep2_lm': GeoDataFrame shape: (3, 2) (2D shapes)\n",
       "with coordinate systems:\n",
       "▸ 'global', with elements:\n",
       "        box (Shapes), rois (Shapes), visium_lm (Shapes), xe_rep1_lm (Shapes), xe_rep2_lm (Shapes)"
      ]
     },
     "execution_count": 15,
     "metadata": {},
     "output_type": "execute_result"
    }
   ],
   "source": [
    "landmarks_sdata"
   ]
  },
  {
   "attachments": {},
   "cell_type": "markdown",
   "id": "d42fe860-6945-40ce-823e-c82fc833904a",
   "metadata": {},
   "source": [
    "### Integrating annotations"
   ]
  },
  {
   "attachments": {},
   "cell_type": "markdown",
   "id": "687960bf-816f-4691-a58e-1f73596d2459",
   "metadata": {},
   "source": [
    "#### Transferring cell-types into Xenium"
   ]
  },
  {
   "attachments": {},
   "cell_type": "markdown",
   "id": "7e3c1a45-53c1-4c75-9d5e-3b8813ae471e",
   "metadata": {},
   "source": [
    "Let's transfer the cell-types information from an single-cell atlas dataset to the Xenium cells. We will cache the result."
   ]
  },
  {
   "cell_type": "code",
   "execution_count": 16,
   "id": "9791bfc3-1aee-40e9-85b9-0d3b89c12ae2",
   "metadata": {
    "tags": []
   },
   "outputs": [],
   "source": [
    "def annotate_bc_xe(bc_sc_atlas_adata, adata_query):\n",
    "    genes = list(set(bc_sc_atlas_adata.var_names) & set(adata_query.var_names))\n",
    "    bc_sc_atlas_adata = bc_sc_atlas_adata[:, genes]\n",
    "    adata_query = adata_query[:, genes]\n",
    "    sc.pp.normalize_total(adata_query, target_sum=1e4)\n",
    "    sc.pp.log1p(adata_query)\n",
    "\n",
    "    sc.pp.pca(bc_sc_atlas_adata)\n",
    "    sc.pp.neighbors(bc_sc_atlas_adata)\n",
    "    sc.tl.umap(bc_sc_atlas_adata)\n",
    "    sc.tl.ingest(adata_query, bc_sc_atlas_adata, obs=\"celltype_major\")\n",
    "\n",
    "    ad = {}\n",
    "    for t in adata_query.obs[\"celltype_major\"].unique():\n",
    "        query_sub = adata_query[adata_query.obs[\"celltype_major\"] == t]\n",
    "        ref_sub = bc_sc_atlas_adata[bc_sc_atlas_adata.obs[\"celltype_major\"] == t]\n",
    "        sc.pp.pca(ref_sub)\n",
    "        sc.pp.neighbors(ref_sub)\n",
    "        sc.tl.umap(ref_sub)\n",
    "        sc.tl.ingest(query_sub, ref_sub, obs=\"celltype_minor\", inplace=True)\n",
    "        ad[t] = query_sub\n",
    "\n",
    "    adata_query = anndata.concat(ad)\n",
    "    return adata_query"
   ]
  },
  {
   "cell_type": "code",
   "execution_count": 17,
   "id": "77b63f5d-4f90-4239-80cf-acb9f95c6db5",
   "metadata": {
    "tags": []
   },
   "outputs": [],
   "source": [
    "CELL_TYPES_ALREADY_TRANSFERRED = True\n",
    "if not CELL_TYPES_ALREADY_TRANSFERRED:\n",
    "    # this code can take 10-60 min to execute\n",
    "    xe_rep1_annotated = annotate_bc_xe(bc_sc_atlas_adata, xe_rep1_adata)\n",
    "    xe_rep2_annotated = annotate_bc_xe(bc_sc_atlas_adata, xe_rep2_adata)\n",
    "    xe_rep1_annotated.write(os.path.join(GENERATED_DATA_PATH, \"xe_rep1_annotated.h5ad\"))\n",
    "    xe_rep2_annotated.write(os.path.join(GENERATED_DATA_PATH, \"xe_rep2_annotated.h5ad\"))\n",
    "else:\n",
    "    xe_rep1_annotated = sc.read(os.path.join(GENERATED_DATA_PATH, \"xe_rep1_annotated.h5ad\"))\n",
    "    xe_rep2_annotated = sc.read(os.path.join(GENERATED_DATA_PATH, \"xe_rep2_annotated.h5ad\"))"
   ]
  },
  {
   "cell_type": "code",
   "execution_count": 18,
   "id": "aee8469c-df79-404f-98b7-452641a63905",
   "metadata": {
    "tags": []
   },
   "outputs": [],
   "source": [
    "xe_rep1_sdata.table.obs[[\"celltype_major\", \"celltype_minor\"]] = xe_rep1_annotated.obs[\n",
    "    [\"celltype_major\", \"celltype_minor\"]\n",
    "]\n",
    "xe_rep2_sdata.table.obs[[\"celltype_major\", \"celltype_minor\"]] = xe_rep2_annotated.obs[\n",
    "    [\"celltype_major\", \"celltype_minor\"]\n",
    "]"
   ]
  },
  {
   "attachments": {},
   "cell_type": "markdown",
   "id": "8797d125-0472-46c8-9444-fadcd240ea34",
   "metadata": {},
   "source": [
    "#### Adding clonality information into Visium"
   ]
  },
  {
   "cell_type": "code",
   "execution_count": 19,
   "id": "1fabe825-eb9f-492f-9613-65b937ae5d92",
   "metadata": {
    "tags": []
   },
   "outputs": [],
   "source": [
    "clones = clonal_adata.obs.set_index(\"barcode\").loc[visium_sdata.table.obs.index][\"clone\"]\n",
    "visium_sdata.table.obs[\"clone\"] = clones"
   ]
  },
  {
   "attachments": {},
   "cell_type": "markdown",
   "id": "a1550e01-896f-4efe-8af3-d09738e90c7d",
   "metadata": {},
   "source": [
    "## Spatial alignment"
   ]
  },
  {
   "attachments": {},
   "cell_type": "markdown",
   "id": "f0225dd9-1046-4b96-a95c-fe84031874ad",
   "metadata": {
    "tags": []
   },
   "source": [
    "### Alignment using 3 landmarks points\n",
    "\n",
    "We take `xe_rep1` as the reference section and align the other two to it. The new coordinate systems is called `aligned`."
   ]
  },
  {
   "cell_type": "code",
   "execution_count": 20,
   "id": "4e70d5f5-bfdc-468b-81c7-09a7da691c30",
   "metadata": {
    "tags": []
   },
   "outputs": [
    {
     "ename": "KeyError",
     "evalue": "'CytAssist_FFPE_Human_Breast_Cancer_full_image'",
     "output_type": "error",
     "traceback": [
      "\u001b[0;31m---------------------------------------------------------------------------\u001b[0m",
      "\u001b[0;31mKeyError\u001b[0m                                  Traceback (most recent call last)",
      "Cell \u001b[0;32mIn[20], line 5\u001b[0m\n\u001b[1;32m      1\u001b[0m xenium_subset \u001b[39m=\u001b[39m sd\u001b[39m.\u001b[39mSpatialData(\n\u001b[1;32m      2\u001b[0m     images\u001b[39m=\u001b[39m{\n\u001b[1;32m      3\u001b[0m         \u001b[39m\"\u001b[39m\u001b[39mxe_rep1\u001b[39m\u001b[39m\"\u001b[39m: xe_rep1_sdata\u001b[39m.\u001b[39mimages[\u001b[39m\"\u001b[39m\u001b[39mmorphology_mip\u001b[39m\u001b[39m\"\u001b[39m],\n\u001b[1;32m      4\u001b[0m         \u001b[39m\"\u001b[39m\u001b[39mxe_rep2\u001b[39m\u001b[39m\"\u001b[39m: xe_rep2_sdata\u001b[39m.\u001b[39mimages[\u001b[39m\"\u001b[39m\u001b[39mmorphology_mip\u001b[39m\u001b[39m\"\u001b[39m],\n\u001b[0;32m----> 5\u001b[0m         \u001b[39m\"\u001b[39m\u001b[39mvisium\u001b[39m\u001b[39m\"\u001b[39m: visium_sdata\u001b[39m.\u001b[39;49mimages[\u001b[39m\"\u001b[39;49m\u001b[39mCytAssist_FFPE_Human_Breast_Cancer_full_image\u001b[39;49m\u001b[39m\"\u001b[39;49m],\n\u001b[1;32m      6\u001b[0m     }\n\u001b[1;32m      7\u001b[0m )\n",
      "\u001b[0;31mKeyError\u001b[0m: 'CytAssist_FFPE_Human_Breast_Cancer_full_image'"
     ]
    }
   ],
   "source": [
    "xenium_subset = sd.SpatialData(\n",
    "    images={\n",
    "        \"xe_rep1\": xe_rep1_sdata.images[\"morphology_mip\"],\n",
    "        \"xe_rep2\": xe_rep2_sdata.images[\"morphology_mip\"],\n",
    "        \"visium\": visium_sdata.images[\"CytAssist_FFPE_Human_Breast_Cancer_full_image\"],\n",
    "    }\n",
    ")"
   ]
  },
  {
   "cell_type": "code",
   "execution_count": null,
   "id": "be8c6f95-6e48-4337-b871-087b92ae2d6c",
   "metadata": {
    "tags": []
   },
   "outputs": [],
   "source": [
    "# this creates the 'aligned` coordinate system, maps the moving (xenium rep 2) and reference elements (xenium rep 1) to that system\n",
    "affine_rep2_to_rep1 = align_elements_using_landmarks(\n",
    "    references_coords=landmarks_sdata.shapes[\"xe_rep1_lm\"],\n",
    "    moving_coords=landmarks_sdata.shapes[\"xe_rep2_lm\"],\n",
    "    reference_element=xenium_subset.images[\"xe_rep1\"],\n",
    "    moving_element=xenium_subset.images[\"xe_rep2\"],\n",
    "    reference_coordinate_system=\"global\",\n",
    "    moving_coordinate_system=\"global\",\n",
    "    new_coordinate_system=\"aligned\",\n",
    ")"
   ]
  },
  {
   "cell_type": "code",
   "execution_count": null,
   "id": "8cb4dd0a-dec9-4aed-bf70-e06ce133c382",
   "metadata": {
    "tags": []
   },
   "outputs": [],
   "source": [
    "# same as above. Now the moving element is visium and the reference element is again xenium rep 1\n",
    "affine_visium_to_rep1 = align_elements_using_landmarks(\n",
    "    references_coords=landmarks_sdata.shapes[\"xe_rep1_lm\"],\n",
    "    moving_coords=landmarks_sdata.shapes[\"visium_lm\"],\n",
    "    reference_element=xenium_subset.images[\"xe_rep1\"],\n",
    "    moving_element=xenium_subset.images[\"visium\"],\n",
    "    reference_coordinate_system=\"global\",\n",
    "    moving_coordinate_system=\"global\",\n",
    "    new_coordinate_system=\"aligned\",\n",
    ")"
   ]
  },
  {
   "cell_type": "raw",
   "id": "61279c7e-9239-4a08-abc5-6cfbfb364ca0",
   "metadata": {},
   "source": [
    "# we can visualize the results with napari\n",
    "from napari_spatialdata import Interactive\n",
    "\n",
    "Interactive([xenium_subset, landmarks_sdata])"
   ]
  },
  {
   "attachments": {},
   "cell_type": "markdown",
   "id": "22c30486-fc2c-4a48-b865-49b3f933b91b",
   "metadata": {},
   "source": [
    "For each element of xenium rep 1, xenium rep 2 and of visium, let's add a transformation to the coordinate system 'aligned'. This instruct the framework how to map each element to the 'aligned' coordinate system.\n",
    "\n",
    "This part of the code will be simplified and become more ergonomic after the new coordinate systems refactoring."
   ]
  },
  {
   "cell_type": "code",
   "execution_count": null,
   "id": "8c6a6db4-430d-4eb1-b132-9f849060380f",
   "metadata": {
    "tags": []
   },
   "outputs": [],
   "source": [
    "# we use an identity for xenium rep 1 since we use it as a reference\n",
    "from spatialdata import SpatialData\n",
    "from spatialdata.transformations import BaseTransformation\n",
    "\n",
    "\n",
    "def postpone_transformation(\n",
    "    sdata: SpatialData,\n",
    "    transformation: BaseTransformation,\n",
    "    source_coordinate_system: str,\n",
    "    target_coordinate_system: str,\n",
    "):\n",
    "    for element_type, element_name, element in sdata._gen_elements():\n",
    "        old_transformations = get_transformation(element, get_all=True)\n",
    "        if source_coordinate_system in old_transformations:\n",
    "            old_transformation = old_transformations[source_coordinate_system]\n",
    "            sequence = Sequence([old_transformation, transformation])\n",
    "            set_transformation(element, sequence, target_coordinate_system)\n",
    "\n",
    "\n",
    "postpone_transformation(\n",
    "    sdata=xe_rep1_sdata,\n",
    "    transformation=Identity(),\n",
    "    source_coordinate_system=\"global\",\n",
    "    target_coordinate_system=\"aligned\",\n",
    ")\n",
    "postpone_transformation(\n",
    "    sdata=xe_rep2_sdata,\n",
    "    transformation=affine_rep2_to_rep1,\n",
    "    source_coordinate_system=\"global\",\n",
    "    target_coordinate_system=\"aligned\",\n",
    ")\n",
    "postpone_transformation(\n",
    "    sdata=visium_sdata,\n",
    "    transformation=affine_visium_to_rep1,\n",
    "    source_coordinate_system=\"global\",\n",
    "    target_coordinate_system=\"aligned\",\n",
    ")"
   ]
  },
  {
   "attachments": {},
   "cell_type": "markdown",
   "id": "21760c8f-ac58-4629-b7c9-9621afa286ae",
   "metadata": {},
   "source": [
    "### Subsetting of the data\n",
    "Used for debugging and dev purposes, remove later"
   ]
  },
  {
   "attachments": {},
   "cell_type": "markdown",
   "id": "8a984ab6-798a-418d-9f08-545e136f068b",
   "metadata": {
    "tags": []
   },
   "source": [
    "### Subsetting the objects to the common area"
   ]
  },
  {
   "attachments": {},
   "cell_type": "markdown",
   "id": "4d2f48c1-c0fa-4ff5-8f3a-ed51ca6f766c",
   "metadata": {
    "tags": []
   },
   "source": [
    "We now want to subset each object to the common area between the two Xenium replicates and the Visium data. Currently there is no function available in `spatialdata` to do a spatial subset by a generic polygon (it will be implemented), so for performing this opertation we will manually transform the data to the same coordinate system, and then implement here a version of the spatial subset."
   ]
  },
  {
   "attachments": {},
   "cell_type": "markdown",
   "id": "ca3526e1-f7f9-4a3b-8888-e11b3bf53408",
   "metadata": {},
   "source": [
    "#### Transforming cells and single-molecule points"
   ]
  },
  {
   "attachments": {},
   "cell_type": "markdown",
   "id": "01e9dca6-68d3-46c2-815e-6a115a837b32",
   "metadata": {},
   "source": [
    "We will now transform the data to the `aligned` coordinate system. Note that above we just defined transformations to this coordinate system but we didn't modified the data itself (this is an expensive operation). Let's create new objects that don't contain the large images."
   ]
  },
  {
   "cell_type": "code",
   "execution_count": null,
   "id": "dfb94345-fb1b-4bc3-a544-951ac49de3c7",
   "metadata": {
    "tags": []
   },
   "outputs": [],
   "source": [
    "xe_rep1_transformed_sdata = sd.SpatialData(\n",
    "    shapes=xe_rep1_sdata.shapes, points=xe_rep1_sdata.points, table=xe_rep1_sdata.table\n",
    ")\n",
    "\n",
    "xe_rep2_transformed_sdata = sd.SpatialData(\n",
    "    shapes=xe_rep2_sdata.shapes, points=xe_rep2_sdata.points, table=xe_rep2_sdata.table\n",
    ")\n",
    "\n",
    "visium_transformed_sdata = sd.SpatialData(\n",
    "    shapes=visium_sdata.shapes, points=visium_sdata.points, table=visium_sdata.table\n",
    ")\n",
    "\n",
    "xe_rep1_transformed_sdata = xe_rep1_transformed_sdata.transform_to_coordinate_system(\"aligned\")\n",
    "xe_rep2_transformed_sdata = xe_rep2_transformed_sdata.transform_to_coordinate_system(\"aligned\")\n",
    "visium_transformed_sdata = visium_transformed_sdata.transform_to_coordinate_system(\"aligned\")"
   ]
  },
  {
   "attachments": {},
   "cell_type": "markdown",
   "id": "1988f876-4bf3-4b59-a88f-caaf30fc23f3",
   "metadata": {},
   "source": [
    "#### Getting the polygon describing the common area"
   ]
  },
  {
   "cell_type": "code",
   "execution_count": null,
   "id": "81c02879-c955-470f-84e9-132c8f3ebf7b",
   "metadata": {
    "tags": []
   },
   "outputs": [],
   "source": [
    "from geopandas import GeoSeries\n",
    "\n",
    "\n",
    "def get_extent(geoseries: GeoSeries):\n",
    "    min_x, min_y = np.min(geoseries.bounds.iloc[:, :2], axis=0)\n",
    "    max_x, max_y = np.max(geoseries.bounds.iloc[:, 2:], axis=0)\n",
    "    print(f\"min_x = {min_x}, min_y = {min_y}, max_x = {max_x}, max_y = {max_y}\")"
   ]
  },
  {
   "cell_type": "code",
   "execution_count": null,
   "id": "59237ff7-d85c-40f8-8413-5bafb3763a46",
   "metadata": {
    "tags": []
   },
   "outputs": [
    {
     "data": {
      "image/svg+xml": [
       "<svg xmlns=\"http://www.w3.org/2000/svg\" xmlns:xlink=\"http://www.w3.org/1999/xlink\" width=\"300\" height=\"300\" viewBox=\"-1355.8569197161169 6993.105878557837 37019.77407969631 20167.240548875372\" preserveAspectRatio=\"xMinYMin meet\"><g transform=\"matrix(1,0,0,-1,0,34153.45230599105)\"><path fill-rule=\"evenodd\" fill=\"#66cc99\" stroke=\"#555555\" stroke-width=\"246.79849386464207\" opacity=\"0.6\" d=\"M 21.34893437256187,8364.208622250293 L 34292.814416287736,9565.637770390313 L 33729.88869259738,25789.243683740755 L 15.245823976339238,25763.451935741257 L 21.34893437256187,8364.208622250293 z\" /></g></svg>"
      ],
      "text/plain": [
       "<POLYGON ((21.349 8364.209, 34292.814 9565.638, 33729.889 25789.244, 15.246 ...>"
      ]
     },
     "execution_count": 26,
     "metadata": {},
     "output_type": "execute_result"
    }
   ],
   "source": [
    "# we manually draw the polygon that contains the common area between the samples\n",
    "box = landmarks_sdata.shapes[\"box\"]\n",
    "# let's get the Polygon object out of the GeoDataFrame\n",
    "box = box.geometry.iloc[0]\n",
    "box"
   ]
  },
  {
   "attachments": {},
   "cell_type": "markdown",
   "id": "1965e011-e282-4967-8698-bedf75dd8b1a",
   "metadata": {},
   "source": [
    "#### Filtering the data inside the common area"
   ]
  },
  {
   "attachments": {},
   "cell_type": "markdown",
   "id": "2c6f35f3-5560-4eef-940b-5a928ad8654d",
   "metadata": {},
   "source": [
    "The functions below implement spatial queries operations on polygons. These functions will be implemented in SpatialData and the code will become simpler."
   ]
  },
  {
   "cell_type": "code",
   "execution_count": null,
   "id": "bc01d16c-1001-4148-a70a-cfdeab464ab4",
   "metadata": {
    "tags": []
   },
   "outputs": [],
   "source": [
    "from spatialdata import polygon_query"
   ]
  },
  {
   "cell_type": "code",
   "execution_count": null,
   "id": "b81e294b-3f35-412f-bf1c-78c1b5b176de",
   "metadata": {
    "tags": []
   },
   "outputs": [
    {
     "name": "stdout",
     "output_type": "stream",
     "text": [
      "CPU times: user 1min 39s, sys: 8.78 s, total: 1min 48s\n",
      "Wall time: 1min 46s\n"
     ]
    }
   ],
   "source": [
    "%%time\n",
    "# let's keep only the shapes inside the query polygon (roi)\n",
    "xe_rep1_roi_sdata = polygon_query(\n",
    "    sdata=xe_rep1_transformed_sdata, polygons=box, target_coordinate_system=\"aligned\", filter_table=False\n",
    ")"
   ]
  },
  {
   "cell_type": "code",
   "execution_count": null,
   "id": "ebbb82b8-b7ac-4333-94f1-39631b8ec879",
   "metadata": {
    "tags": []
   },
   "outputs": [
    {
     "name": "stdout",
     "output_type": "stream",
     "text": [
      "CPU times: user 1min 29s, sys: 10.6 s, total: 1min 40s\n",
      "Wall time: 1min 35s\n"
     ]
    }
   ],
   "source": [
    "%%time\n",
    "xe_rep2_roi_sdata = polygon_query(\n",
    "    sdata=xe_rep2_transformed_sdata, polygons=box, target_coordinate_system=\"aligned\", filter_table=False\n",
    ")"
   ]
  },
  {
   "cell_type": "code",
   "execution_count": null,
   "id": "5ed2592d-4042-498b-9b52-4281f14a621a",
   "metadata": {
    "tags": []
   },
   "outputs": [
    {
     "name": "stdout",
     "output_type": "stream",
     "text": [
      "CPU times: user 99.1 ms, sys: 65.8 ms, total: 165 ms\n",
      "Wall time: 164 ms\n"
     ]
    }
   ],
   "source": [
    "%%time\n",
    "visium_roi_sdata = polygon_query(\n",
    "    sdata=visium_transformed_sdata,\n",
    "    polygons=box,\n",
    "    target_coordinate_system=\"aligned\",\n",
    ")"
   ]
  },
  {
   "attachments": {},
   "cell_type": "markdown",
   "id": "4e7b515f-6085-4d82-a8c9-4050722142ce",
   "metadata": {},
   "source": [
    "### Subsetting the objects to the common genes"
   ]
  },
  {
   "cell_type": "code",
   "execution_count": null,
   "id": "04d95605-c177-4a9d-9abc-70dd177db33d",
   "metadata": {
    "tags": []
   },
   "outputs": [],
   "source": [
    "from copy import copy\n",
    "\n",
    "sel_genes = list(set(visium_roi_sdata.table.var_names) & (set(xe_rep1_roi_sdata.table.var_names)))\n",
    "\n",
    "filtered_table = xe_rep1_roi_sdata.table[:, sel_genes].copy()\n",
    "del xe_rep1_roi_sdata.table\n",
    "xe_rep1_roi_sdata.table = filtered_table\n",
    "\n",
    "filtered_table = xe_rep2_roi_sdata.table[:, sel_genes].copy()\n",
    "del xe_rep2_roi_sdata.table\n",
    "xe_rep2_roi_sdata.table = filtered_table\n",
    "\n",
    "filtered_table = visium_roi_sdata.table[:, sel_genes].copy()\n",
    "del visium_roi_sdata.table\n",
    "visium_roi_sdata.table = filtered_table"
   ]
  },
  {
   "attachments": {},
   "cell_type": "markdown",
   "id": "acc9672f-1657-4326-9c06-f20f256c9d8d",
   "metadata": {},
   "source": [
    "## Aggregation of gene expression and cell-types from the Xenium cells into the Visium circles"
   ]
  },
  {
   "attachments": {},
   "cell_type": "markdown",
   "id": "15243689-54bd-4891-bc92-8e79b51365b7",
   "metadata": {},
   "source": [
    "We will now aggregate the gene expression and the cell-type information and the into the Visium circles.\n",
    "\n",
    "To do so, we will consider the polygonal cell description. Currently the table is set to describe the cell circles (as we can see in the next cell). Therefore, let's create another `SpatialData` object that links the table to the polygonal description, and let's use this for aggregation. Let's do this for both replicates.\n",
    "\n",
    "The option `fractions=True` is used to downweigh cases of partial cell overlaps, please refer to the documentation for a detailed explanation."
   ]
  },
  {
   "cell_type": "code",
   "execution_count": null,
   "id": "9be96419-0d38-421f-a722-854cf2c07179",
   "metadata": {},
   "outputs": [
    {
     "name": "stdout",
     "output_type": "stream",
     "text": [
      "{'instance_key': 'cell_id', 'region': 'cell_circles', 'region_key': 'region'}\n"
     ]
    }
   ],
   "source": [
    "from spatialdata.models import TableModel\n",
    "\n",
    "table_metadata = xe_rep1_roi_sdata.table.uns[TableModel.ATTRS_KEY]\n",
    "print(table_metadata)\n",
    "\n",
    "# replicate 1\n",
    "new_table = xe_rep1_roi_sdata.table.copy()\n",
    "del new_table.uns[TableModel.ATTRS_KEY]\n",
    "new_table.obs[\"region\"] = \"cell_boundaries\"\n",
    "new_table.obs[\"region\"] = new_table.obs[\"region\"].astype(\"category\")\n",
    "new_table = TableModel.parse(new_table, region=\"cell_boundaries\", region_key=\"region\", instance_key=\"cell_id\")\n",
    "xe_rep1_roi_sdata_polygons = SpatialData(\n",
    "    shapes={\"cell_boundaries\": xe_rep1_roi_sdata[\"cell_boundaries\"]}, table=new_table\n",
    ")\n",
    "\n",
    "# replicate 2\n",
    "new_table = xe_rep2_roi_sdata.table.copy()\n",
    "del new_table.uns[TableModel.ATTRS_KEY]\n",
    "new_table.obs[\"region\"] = \"cell_boundaries\"\n",
    "new_table.obs[\"region\"] = new_table.obs[\"region\"].astype(\"category\")\n",
    "new_table = TableModel.parse(new_table, region=\"cell_boundaries\", region_key=\"region\", instance_key=\"cell_id\")\n",
    "xe_rep2_roi_sdata_polygons = SpatialData(\n",
    "    shapes={\"cell_boundaries\": xe_rep2_roi_sdata[\"cell_boundaries\"]}, table=new_table\n",
    ")"
   ]
  },
  {
   "attachments": {},
   "cell_type": "markdown",
   "id": "7b9a8cf3-8f6f-4f1d-a97e-f307378314a7",
   "metadata": {},
   "source": [
    "### Aggregating gene expression."
   ]
  },
  {
   "cell_type": "code",
   "execution_count": null,
   "id": "1777ac7b-3c01-483b-a6ec-b6feee583525",
   "metadata": {},
   "outputs": [
    {
     "name": "stdout",
     "output_type": "stream",
     "text": [
      "CPU times: user 4.17 s, sys: 434 ms, total: 4.61 s\n",
      "Wall time: 4.61 s\n"
     ]
    }
   ],
   "source": [
    "%%time\n",
    "# rep 1\n",
    "agg_expression = aggregate(\n",
    "    values_sdata=xe_rep1_roi_sdata_polygons,\n",
    "    values=\"cell_boundaries\",\n",
    "    by_sdata=visium_roi_sdata,\n",
    "    by=\"CytAssist_FFPE_Human_Breast_Cancer\",\n",
    "    value_key=xe_rep1_roi_sdata.table.var_names.tolist(),\n",
    "    target_coordinate_system=\"aligned\",\n",
    "    fractions=True,\n",
    ")\n",
    "visium_roi_sdata.table.layers[\"xe_rep1_cells\"] = agg_expression.table[:, sel_genes].X.copy()\n",
    "\n",
    "# rep 2\n",
    "agg_expression = aggregate(\n",
    "    values_sdata=xe_rep2_roi_sdata_polygons,\n",
    "    values=\"cell_boundaries\",\n",
    "    by_sdata=visium_roi_sdata,\n",
    "    by=\"CytAssist_FFPE_Human_Breast_Cancer\",\n",
    "    value_key=xe_rep2_roi_sdata.table.var_names.tolist(),\n",
    "    target_coordinate_system=\"aligned\",\n",
    "    fractions=True,\n",
    ")\n",
    "visium_roi_sdata.table.layers[\"xe_rep2_cells\"] = agg_expression.table[:, sel_genes].X.copy()"
   ]
  },
  {
   "attachments": {},
   "cell_type": "markdown",
   "id": "303283bb-3aac-4716-ba50-d4795bce8ca1",
   "metadata": {},
   "source": [
    "### Aggregating cell-types into cell-type fractions"
   ]
  },
  {
   "attachments": {},
   "cell_type": "markdown",
   "id": "317e9d60-1ae0-48d9-9d55-471922da4dfe",
   "metadata": {},
   "source": [
    "#### Major cell-types"
   ]
  },
  {
   "cell_type": "code",
   "execution_count": null,
   "id": "d5a42829-1d00-4c32-aba1-19560f27913f",
   "metadata": {},
   "outputs": [
    {
     "name": "stdout",
     "output_type": "stream",
     "text": [
      "CPU times: user 3.31 s, sys: 70 ms, total: 3.38 s\n",
      "Wall time: 3.39 s\n"
     ]
    }
   ],
   "source": [
    "%%time\n",
    "# rep 1\n",
    "agg_celltype_major = aggregate(\n",
    "    values_sdata=xe_rep1_roi_sdata_polygons,\n",
    "    values=\"cell_boundaries\",\n",
    "    by_sdata=visium_roi_sdata,\n",
    "    by=\"CytAssist_FFPE_Human_Breast_Cancer\",\n",
    "    value_key=\"celltype_major\",\n",
    "    target_coordinate_system=\"aligned\",\n",
    "    fractions=True,\n",
    ")\n",
    "visium_roi_sdata.table.obsm[\"xe_rep1_celltype_major\"] = agg_celltype_major.table.X.A\n",
    "\n",
    "# rep 2\n",
    "agg_celltype_major = aggregate(\n",
    "    values_sdata=xe_rep2_roi_sdata_polygons,\n",
    "    values=\"cell_boundaries\",\n",
    "    by_sdata=visium_roi_sdata,\n",
    "    by=\"CytAssist_FFPE_Human_Breast_Cancer\",\n",
    "    value_key=\"celltype_major\",\n",
    "    target_coordinate_system=\"aligned\",\n",
    "    fractions=True,\n",
    ")\n",
    "visium_roi_sdata.table.obsm[\"xe_rep2_celltype_major\"] = agg_celltype_major.table.X.A"
   ]
  },
  {
   "attachments": {},
   "cell_type": "markdown",
   "id": "c2190396-5daa-4727-a737-14f4d2340abe",
   "metadata": {},
   "source": [
    "#### Minor cell-types"
   ]
  },
  {
   "cell_type": "code",
   "execution_count": null,
   "id": "73312a29-f774-40fd-b100-2542f5ce1c0d",
   "metadata": {},
   "outputs": [
    {
     "name": "stdout",
     "output_type": "stream",
     "text": [
      "CPU times: user 3.39 s, sys: 86.7 ms, total: 3.48 s\n",
      "Wall time: 3.5 s\n"
     ]
    }
   ],
   "source": [
    "%%time\n",
    "# rep 1\n",
    "agg_celltype_minor = aggregate(\n",
    "    values_sdata=xe_rep1_roi_sdata_polygons,\n",
    "    values=\"cell_boundaries\",\n",
    "    by_sdata=visium_roi_sdata,\n",
    "    by=\"CytAssist_FFPE_Human_Breast_Cancer\",\n",
    "    value_key=\"celltype_minor\",\n",
    "    target_coordinate_system=\"aligned\",\n",
    "    fractions=True,\n",
    ")\n",
    "visium_roi_sdata.table.obsm[\"xe_rep1_celltype_minor\"] = agg_celltype_minor.table.X.A\n",
    "\n",
    "# rep 2\n",
    "agg_celltype_minor = aggregate(\n",
    "    values_sdata=xe_rep2_roi_sdata_polygons,\n",
    "    values=\"cell_boundaries\",\n",
    "    by_sdata=visium_roi_sdata,\n",
    "    by=\"CytAssist_FFPE_Human_Breast_Cancer\",\n",
    "    value_key=\"celltype_minor\",\n",
    "    target_coordinate_system=\"aligned\",\n",
    "    fractions=True,\n",
    ")\n",
    "visium_roi_sdata.table.obsm[\"xe_rep2_celltype_minor\"] = agg_celltype_minor.table.X.A"
   ]
  },
  {
   "attachments": {},
   "cell_type": "markdown",
   "id": "d7157d47-51c8-4bc8-b3e8-48e1637033f2",
   "metadata": {},
   "source": [
    "## Aggregation of gene expression from the Xenium single-molecule points into the Visium Circles"
   ]
  },
  {
   "cell_type": "code",
   "execution_count": null,
   "id": "64452e20-b145-4ccb-83ed-fa102aadf968",
   "metadata": {},
   "outputs": [
    {
     "name": "stdout",
     "output_type": "stream",
     "text": [
      "CPU times: user 25.5 s, sys: 8.91 s, total: 34.4 s\n",
      "Wall time: 37 s\n"
     ]
    }
   ],
   "source": [
    "%%time\n",
    "xe_rep1_aggregated = aggregate(\n",
    "    values=xe_rep1_roi_sdata[\"transcripts\"],\n",
    "    by=visium_roi_sdata[\"CytAssist_FFPE_Human_Breast_Cancer\"],\n",
    "    value_key=\"feature_name\",\n",
    "    agg_func=\"count\",\n",
    "    target_coordinate_system=\"aligned\",\n",
    ")"
   ]
  },
  {
   "cell_type": "code",
   "execution_count": null,
   "id": "fc6b00b9-382b-4903-88af-2544096b1389",
   "metadata": {},
   "outputs": [],
   "source": [
    "counts = xe_rep1_aggregated.table[:, sel_genes].X.todense().A\n",
    "visium_roi_sdata.table.layers[\"xe_rep1_tx\"] = counts"
   ]
  },
  {
   "cell_type": "code",
   "execution_count": null,
   "id": "d878795a-58b0-423b-9ae8-f4e9deadd8e3",
   "metadata": {},
   "outputs": [
    {
     "name": "stdout",
     "output_type": "stream",
     "text": [
      "CPU times: user 25.3 s, sys: 7.79 s, total: 33.1 s\n",
      "Wall time: 35.2 s\n"
     ]
    }
   ],
   "source": [
    "%%time\n",
    "xe_rep2_aggregated = aggregate(\n",
    "    values=xe_rep2_roi_sdata[\"transcripts\"],\n",
    "    by=visium_roi_sdata[\"CytAssist_FFPE_Human_Breast_Cancer\"],\n",
    "    value_key=\"feature_name\",\n",
    "    agg_func=\"count\",\n",
    "    target_coordinate_system=\"aligned\",\n",
    ")"
   ]
  },
  {
   "cell_type": "code",
   "execution_count": null,
   "id": "e3ffd863-4f39-43b2-9dcb-3657ff741ecc",
   "metadata": {},
   "outputs": [],
   "source": [
    "counts = xe_rep2_aggregated.table[:, sel_genes].X.todense().A\n",
    "visium_roi_sdata.table.layers[\"xe_rep2_tx\"] = counts"
   ]
  },
  {
   "attachments": {},
   "cell_type": "markdown",
   "id": "73fc9721-9c69-429a-96cd-5b81b7de7063",
   "metadata": {},
   "source": [
    "## Saving the objects to disk"
   ]
  },
  {
   "cell_type": "code",
   "execution_count": null,
   "id": "24a629bc-7c6c-442c-9eef-3577f7565c88",
   "metadata": {
    "tags": []
   },
   "outputs": [
    {
     "data": {
      "text/plain": [
       "SpatialData object with:\n",
       "├── Points\n",
       "│     └── 'transcripts': DataFrame with shape: (<Delayed>, 9) (3D points)\n",
       "├── Shapes\n",
       "│     ├── 'cell_boundaries': GeoDataFrame shape: (100849, 1) (2D shapes)\n",
       "│     ├── 'cell_circles': GeoDataFrame shape: (100637, 2) (2D shapes)\n",
       "│     └── 'nucleus_boundaries': GeoDataFrame shape: (100646, 1) (2D shapes)\n",
       "└── Table\n",
       "      └── AnnData object with n_obs × n_vars = 167780 × 307\n",
       "    obs: 'cell_id', 'transcript_counts', 'control_probe_counts', 'control_codeword_counts', 'total_counts', 'cell_area', 'nucleus_area', 'region', 'dataset', 'celltype_major', 'celltype_minor'\n",
       "    var: 'gene_ids', 'feature_types', 'genome'\n",
       "    uns: 'spatialdata_attrs'\n",
       "    obsm: 'spatial': AnnData (167780, 307)\n",
       "with coordinate systems:\n",
       "▸ 'aligned', with elements:\n",
       "        transcripts (Points), cell_boundaries (Shapes), cell_circles (Shapes), nucleus_boundaries (Shapes)"
      ]
     },
     "execution_count": 40,
     "metadata": {},
     "output_type": "execute_result"
    }
   ],
   "source": [
    "xe_rep1_roi_sdata"
   ]
  },
  {
   "cell_type": "code",
   "execution_count": null,
   "id": "04a42588-4f53-4c36-a152-2a0980eab5ce",
   "metadata": {
    "tags": []
   },
   "outputs": [
    {
     "data": {
      "text/plain": [
       "SpatialData object with:\n",
       "├── Points\n",
       "│     └── 'transcripts': DataFrame with shape: (<Delayed>, 9) (3D points)\n",
       "├── Shapes\n",
       "│     ├── 'cell_boundaries': GeoDataFrame shape: (99923, 1) (2D shapes)\n",
       "│     ├── 'cell_circles': GeoDataFrame shape: (99770, 2) (2D shapes)\n",
       "│     └── 'nucleus_boundaries': GeoDataFrame shape: (99761, 1) (2D shapes)\n",
       "└── Table\n",
       "      └── AnnData object with n_obs × n_vars = 118752 × 307\n",
       "    obs: 'cell_id', 'transcript_counts', 'control_probe_counts', 'control_codeword_counts', 'total_counts', 'cell_area', 'nucleus_area', 'region', 'dataset', 'celltype_major', 'celltype_minor'\n",
       "    var: 'gene_ids', 'feature_types', 'genome'\n",
       "    uns: 'spatialdata_attrs'\n",
       "    obsm: 'spatial': AnnData (118752, 307)\n",
       "with coordinate systems:\n",
       "▸ 'aligned', with elements:\n",
       "        transcripts (Points), cell_boundaries (Shapes), cell_circles (Shapes), nucleus_boundaries (Shapes)"
      ]
     },
     "execution_count": 41,
     "metadata": {},
     "output_type": "execute_result"
    }
   ],
   "source": [
    "xe_rep2_roi_sdata"
   ]
  },
  {
   "cell_type": "code",
   "execution_count": null,
   "id": "b028abfc-6732-4ef4-afb6-5cf4e675812f",
   "metadata": {
    "tags": []
   },
   "outputs": [
    {
     "data": {
      "text/plain": [
       "SpatialData object with:\n",
       "├── Shapes\n",
       "│     └── 'CytAssist_FFPE_Human_Breast_Cancer': GeoDataFrame shape: (2826, 2) (2D shapes)\n",
       "└── Table\n",
       "      └── AnnData object with n_obs × n_vars = 2826 × 307\n",
       "    obs: 'in_tissue', 'array_row', 'array_col', 'spot_id', 'region', 'dataset', 'clone'\n",
       "    var: 'gene_ids', 'feature_types', 'genome'\n",
       "    uns: 'spatial', 'spatialdata_attrs'\n",
       "    obsm: 'spatial', 'xe_rep1_celltype_major', 'xe_rep2_celltype_major', 'xe_rep1_celltype_minor', 'xe_rep2_celltype_minor'\n",
       "    layers: 'xe_rep1_cells', 'xe_rep2_cells', 'xe_rep1_tx', 'xe_rep2_tx': AnnData (2826, 307)\n",
       "with coordinate systems:\n",
       "▸ 'aligned', with elements:\n",
       "        CytAssist_FFPE_Human_Breast_Cancer (Shapes)"
      ]
     },
     "execution_count": 42,
     "metadata": {},
     "output_type": "execute_result"
    }
   ],
   "source": [
    "visium_roi_sdata"
   ]
  },
  {
   "cell_type": "code",
   "execution_count": null,
   "id": "dab6aebe-7b4f-4c60-b5a3-0a45bca0e270",
   "metadata": {
    "tags": []
   },
   "outputs": [],
   "source": [
    "# save transformations to disk (it was only in-memory so far)\n",
    "from spatialdata import save_transformations\n",
    "\n",
    "save_transformations(xe_rep1_sdata)\n",
    "save_transformations(xe_rep2_sdata)\n",
    "save_transformations(visium_sdata)"
   ]
  },
  {
   "cell_type": "code",
   "execution_count": null,
   "id": "621ae166-2a0f-4fbb-a5db-a064c57d6cc2",
   "metadata": {
    "tags": []
   },
   "outputs": [],
   "source": [
    "# the table of the xenium data was modified only in-memory, let's sync the change to disk\n",
    "\n",
    "\n",
    "def save_table(sdata: SpatialData) -> None:\n",
    "    table = sdata.table\n",
    "    del sdata.table\n",
    "    # updates the disk storage\n",
    "    sdata.table = table\n",
    "\n",
    "\n",
    "save_table(xe_rep1_sdata)\n",
    "save_table(xe_rep2_sdata)\n",
    "save_table(visium_sdata)"
   ]
  },
  {
   "cell_type": "code",
   "execution_count": null,
   "id": "c1d66959-8879-4530-8aa3-cb43bece9011",
   "metadata": {},
   "outputs": [],
   "source": [
    "xe_rep1_roi_sdata[\"transcripts\"][\"feature_name\"] = xe_rep1_roi_sdata[\"transcripts\"][\"feature_name\"].cat.as_known()\n",
    "xe_rep2_roi_sdata[\"transcripts\"][\"feature_name\"] = xe_rep2_roi_sdata[\"transcripts\"][\"feature_name\"].cat.as_known()"
   ]
  },
  {
   "cell_type": "code",
   "execution_count": null,
   "id": "6e1fe4d7-2331-414d-9d7a-b561d660371c",
   "metadata": {
    "tags": []
   },
   "outputs": [
    {
     "name": "stdout",
     "output_type": "stream",
     "text": [
      "CPU times: user 9.76 s, sys: 2.66 s, total: 12.4 s\n",
      "Wall time: 12.7 s\n"
     ]
    }
   ],
   "source": [
    "%%time\n",
    "import shutil\n",
    "\n",
    "if os.path.isdir(XE_REP1_ROI_PATH):\n",
    "    shutil.rmtree(XE_REP1_ROI_PATH)\n",
    "xe_rep1_roi_sdata.write(XE_REP1_ROI_PATH)\n",
    "\n",
    "if os.path.isdir(XE_REP2_ROI_PATH):\n",
    "    shutil.rmtree(XE_REP2_ROI_PATH)\n",
    "xe_rep2_roi_sdata.write(XE_REP2_ROI_PATH)\n",
    "\n",
    "if os.path.isdir(VISIUM_ROI_PATH):\n",
    "    shutil.rmtree(VISIUM_ROI_PATH)\n",
    "visium_roi_sdata.write(VISIUM_ROI_PATH)"
   ]
  },
  {
   "attachments": {},
   "cell_type": "markdown",
   "id": "ea93f6e2-814a-4ba8-a81a-fc07538f7222",
   "metadata": {},
   "source": [
    "### Internal code"
   ]
  },
  {
   "attachments": {},
   "cell_type": "markdown",
   "id": "d9f2cb0b-e65c-47e0-951d-843f9c34441f",
   "metadata": {},
   "source": [
    "During development, we conclude doing a check that the data that we saved is correct."
   ]
  },
  {
   "cell_type": "code",
   "execution_count": null,
   "id": "1eec6139-4cdb-4913-8c75-a7eaecfa1633",
   "metadata": {
    "tags": []
   },
   "outputs": [],
   "source": [
    "xe_rep1_sdata2 = sd.read_zarr(XE_REP1_PATH)\n",
    "xe_rep2_sdata2 = sd.read_zarr(XE_REP2_PATH)\n",
    "visium_sdata2 = sd.read_zarr(VISIUM_PATH)\n",
    "\n",
    "xe_rep1_roi_sdata2 = sd.read_zarr(XE_REP1_ROI_PATH)\n",
    "xe_rep2_roi_sdata2 = sd.read_zarr(XE_REP2_ROI_PATH)\n",
    "visium_roi_sdata2 = sd.read_zarr(VISIUM_ROI_PATH)"
   ]
  },
  {
   "cell_type": "code",
   "execution_count": null,
   "id": "540632d5-130f-4950-80a2-8b5c4c3e33e2",
   "metadata": {
    "tags": []
   },
   "outputs": [],
   "source": [
    "assert str(xe_rep1_sdata) == str(xe_rep1_sdata2)\n",
    "assert str(xe_rep2_sdata) == str(xe_rep2_sdata2)\n",
    "assert str(visium_sdata) == str(visium_sdata2)\n",
    "\n",
    "assert str(xe_rep1_roi_sdata) == str(xe_rep1_roi_sdata2)\n",
    "assert str(xe_rep2_roi_sdata) == str(xe_rep2_roi_sdata2)\n",
    "assert sorted(str(visium_roi_sdata)) == sorted(str(visium_roi_sdata2))"
   ]
  },
  {
   "cell_type": "raw",
   "id": "aeec7dff-7c7f-4d18-81c9-c5ed5885d18c",
   "metadata": {},
   "source": [
    "from napari_spatialdata import Interactive\n",
    "\n",
    "Interactive([xe_rep1_sdata, xe_rep2_sdata, visium_sdata, landmarks_sdata], points=False)\n",
    "Interactive(\n",
    "    [xe_rep1_roi_sdata, xe_rep2_roi_sdata, visium_roi_sdata, landmarks_sdata],\n",
    "    points=False,\n",
    ")"
   ]
  },
  {
   "attachments": {},
   "cell_type": "markdown",
   "id": "ed3e3fbd-20da-4e68-bf4b-27530a79675d",
   "metadata": {},
   "source": [
    "For interal pipelines used during development, we also copy the produced data into a new location."
   ]
  },
  {
   "cell_type": "code",
   "execution_count": null,
   "id": "6197c42f-b97e-4195-b9ae-ece3cd813872",
   "metadata": {
    "tags": []
   },
   "outputs": [
    {
     "data": {
      "text/plain": [
       "'spatialdata-sandbox/visium_associated_xenium_io/data_aligned.zarr'"
      ]
     },
     "execution_count": 49,
     "metadata": {},
     "output_type": "execute_result"
    }
   ],
   "source": [
    "XE_REP1_ALIGNED_PATH = XE_REP1_PATH.replace(\"data.zarr\", \"data_aligned.zarr\")\n",
    "XE_REP2_ALIGNED_PATH = XE_REP2_PATH.replace(\"data.zarr\", \"data_aligned.zarr\")\n",
    "VISIUM_ALIGNED_PATH = VISIUM_PATH.replace(\"data.zarr\", \"data_aligned.zarr\")\n",
    "\n",
    "if os.path.isdir(XE_REP1_ALIGNED_PATH):\n",
    "    shutil.rmtree(XE_REP1_ALIGNED_PATH)\n",
    "shutil.copytree(XE_REP1_PATH, XE_REP1_ALIGNED_PATH)\n",
    "\n",
    "if os.path.isdir(XE_REP2_ALIGNED_PATH):\n",
    "    shutil.rmtree(XE_REP2_ALIGNED_PATH)\n",
    "shutil.copytree(XE_REP2_PATH, XE_REP2_ALIGNED_PATH)\n",
    "\n",
    "if os.path.isdir(VISIUM_ALIGNED_PATH):\n",
    "    shutil.rmtree(VISIUM_ALIGNED_PATH)\n",
    "shutil.copytree(VISIUM_PATH, VISIUM_ALIGNED_PATH)"
   ]
  }
 ],
 "metadata": {
  "kernelspec": {
   "display_name": "Python 3 (ipykernel)",
   "language": "python",
   "name": "python3"
  },
  "language_info": {
   "codemirror_mode": {
    "name": "ipython",
    "version": 3
   },
   "file_extension": ".py",
   "mimetype": "text/x-python",
   "name": "python",
   "nbconvert_exporter": "python",
   "pygments_lexer": "ipython3",
   "version": "3.10.0"
  }
 },
 "nbformat": 4,
 "nbformat_minor": 5
}
